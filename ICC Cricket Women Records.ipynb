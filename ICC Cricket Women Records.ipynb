{
 "cells": [
  {
   "cell_type": "markdown",
   "metadata": {},
   "source": [
    "# Top 10 ODI Teams - Women"
   ]
  },
  {
   "cell_type": "code",
   "execution_count": 1,
   "metadata": {},
   "outputs": [],
   "source": [
    "def top_teams():\n",
    "    from selenium import webdriver\n",
    "    from bs4 import BeautifulSoup\n",
    "    import pandas as pd\n",
    "    url = 'https://www.icc-cricket.com/rankings/womens/team-rankings/odi'\n",
    "    driver = webdriver.Chrome()\n",
    "    driver.get(url)\n",
    "    soup = BeautifulSoup(driver.page_source,'html.parser')\n",
    "    table = soup.find('table',{'class':'table'}).tbody\n",
    "    ranks = []\n",
    "    teams = []\n",
    "    matches = []\n",
    "    points = []\n",
    "    ratings = []\n",
    "    row1 = table.find('tr',{'class':'rankings-block__banner'})\n",
    "    rank = row1.find('td',{'class':'rankings-block__banner--pos'}).text\n",
    "    team_dummy = row1.find('td',{'class':'rankings-block__banner--team-name'})\n",
    "    team = team_dummy.find('span',{'class':'u-hide-phablet'}).text\n",
    "    match = row1.find('td',{'class':'rankings-block__banner--matches'}).text\n",
    "    point = row1.find('td',{'class':'rankings-block__banner--points'}).text\n",
    "    rating = row1.find('td',{'class':'rankings-block__banner--rating u-text-right'}).text.strip()\n",
    "    ranks.append(rank)\n",
    "    teams.append(team)\n",
    "    matches.append(match)\n",
    "    points.append(point)\n",
    "    ratings.append(rating)\n",
    "\n",
    "    rows = table.find_all('tr',{'class':'table-body'},limit=9)\n",
    "    for row in rows:\n",
    "        rank = row.find('td',{'class':'table-body__cell table-body__cell--position u-text-right'}).text\n",
    "        team_dummy = row.find('td',{'class':'table-body__cell rankings-table__team'})\n",
    "        team = team_dummy.find('span',{'class':'u-hide-phablet'}).text\n",
    "        match_points = row.find_all('td',{'class':'table-body__cell u-center-text'})\n",
    "        match = match_points[0].text\n",
    "        point = match_points[1].text\n",
    "        rating = row.find('td',{'class':'table-body__cell u-text-right rating'}).text\n",
    "        ranks.append(rank)\n",
    "        teams.append(team)\n",
    "        matches.append(match)\n",
    "        points.append(point)\n",
    "        ratings.append(rating)\n",
    "    driver.close()\n",
    "    teams = pd.DataFrame({'Rank':ranks,'team':teams,'matches':matches,'points':points,'ratings':ratings})\n",
    "    return teams"
   ]
  },
  {
   "cell_type": "code",
   "execution_count": 2,
   "metadata": {},
   "outputs": [
    {
     "name": "stdout",
     "output_type": "stream",
     "text": [
      "  Rank          team matches points ratings\n",
      "0    1     Australia      15  2,436     162\n",
      "1    2         India      15  1,812     121\n",
      "2    3       England      14  1,670     119\n",
      "3    4  South Africa      16  1,713     107\n",
      "4    5   New Zealand      15  1,384      92\n",
      "5    6   West Indies      12  1,025      85\n",
      "6    7      Pakistan      12    927      77\n",
      "7    8    Bangladesh       5    306      61\n",
      "8    9     Sri Lanka      11    519      47\n",
      "9   10       Ireland       2     25      13\n"
     ]
    }
   ],
   "source": [
    "print(top_teams())"
   ]
  },
  {
   "cell_type": "markdown",
   "metadata": {},
   "source": [
    "# Top 10 ODI Batsmen, Bowlers & All Rounders - Women"
   ]
  },
  {
   "cell_type": "code",
   "execution_count": 12,
   "metadata": {},
   "outputs": [],
   "source": [
    "def top_batsmen():\n",
    "    from selenium import webdriver\n",
    "    from bs4 import BeautifulSoup\n",
    "    import pandas as pd\n",
    "    \n",
    "    #Function to clean some text\n",
    "    def remove(string,dummy): \n",
    "        return string.replace(dummy, \"\")\n",
    "    \n",
    "    url = 'https://www.icc-cricket.com/rankings/womens/player-rankings/odi'\n",
    "    driver = webdriver.Chrome()\n",
    "    driver.get(url)\n",
    "    psoup = BeautifulSoup(driver.page_source,'html.parser')\n",
    "    bat_table1 = psoup.find('div',{'data-title':'ODI Batting Rankings'})\n",
    "    bat_table2 = bat_table1.table.tbody\n",
    "    ranks = []\n",
    "    names = []\n",
    "    teams = []\n",
    "    ratings = []\n",
    "    prow1 = bat_table1.find('div',{'class':'rankings-block__banner'})\n",
    "    rank = prow1.find('div',{'class':'rankings-block__banner--pos'}).text.strip()\n",
    "    prow11 = prow1.find('div',{'class':'rankings-block__banner--player-info'})\n",
    "    name = prow11.find('div',{'class':'rankings-block__banner--name'}).text\n",
    "    team_rating = prow11.find('div',{'class':'rankings-block__banner--nationality'})\n",
    "    rating = team_rating.find('div',{'class':'rankings-block__banner--rating'}).text\n",
    "    team = remove(team_rating.text,rating).strip()\n",
    "    ranks.append(rank)\n",
    "    names.append(name)\n",
    "    teams.append(team)\n",
    "    ratings.append(rating)\n",
    "\n",
    "    prows = bat_table2.find_all('tr',{'class':'table-body'})\n",
    "    for prow in prows:\n",
    "        try:\n",
    "            rank_desc = prow.find('span',{'class':'ranking-pos'}).text\n",
    "        except AttributeError:\n",
    "            return\n",
    "        rank = remove(prow.find('td',{'class':'table-body__cell table-body__cell--position u-text-right'}).text,rank_desc).strip()\n",
    "        name = prow.find('td',{'class':'table-body__cell name'}).a.text\n",
    "        team = prow.find('td',{'class':'table-body__cell nationality-logo'}).text.strip()\n",
    "        rating = prow.find('td',{'class':'table-body__cell u-text-right rating'}).text\n",
    "        ranks.append(rank)\n",
    "        names.append(name)\n",
    "        teams.append(team)\n",
    "        ratings.append(rating)\n",
    "    driver.close()\n",
    "    batswomen = pd.DataFrame({'Rank':ranks,'name':names,'team':teams,'ratings':ratings})\n",
    "    return batswomen"
   ]
  },
  {
   "cell_type": "code",
   "execution_count": 13,
   "metadata": {},
   "outputs": [
    {
     "name": "stdout",
     "output_type": "stream",
     "text": [
      "  Rank               name team ratings\n",
      "0    1        Meg Lanning  AUS     749\n",
      "1    2    Stafanie Taylor   WI     746\n",
      "2    3       Alyssa Healy  AUS     741\n",
      "3    4    Smriti Mandhana  IND     732\n",
      "4    5  Amy Satterthwaite   NZ     723\n",
      "5    6     Tammy Beaumont  ENG     716\n",
      "6    7       Ellyse Perry  AUS     691\n",
      "7    8        Lizelle Lee   SA     690\n",
      "8    9    Laura Wolvaardt   SA     689\n",
      "9   10        Mithali Raj  IND     687\n"
     ]
    }
   ],
   "source": [
    "print(top_batsmen())"
   ]
  },
  {
   "cell_type": "code",
   "execution_count": 14,
   "metadata": {},
   "outputs": [],
   "source": [
    "def top_bowlers():\n",
    "    from selenium import webdriver\n",
    "    from bs4 import BeautifulSoup\n",
    "    import pandas as pd\n",
    "    \n",
    "    #Function to clean some text\n",
    "    def remove(string,dummy): \n",
    "        return string.replace(dummy, \"\")\n",
    "    \n",
    "    url = 'https://www.icc-cricket.com/rankings/womens/player-rankings/odi'\n",
    "    driver = webdriver.Chrome()\n",
    "    driver.get(url)\n",
    "    psoup = BeautifulSoup(driver.page_source,'html.parser')\n",
    "    bowl_table1 = psoup.find('div',{'data-title':'ODI Bowling Rankings'})\n",
    "    bowl_table2 = bowl_table1.table.tbody\n",
    "    ranks = []\n",
    "    names = []\n",
    "    teams = []\n",
    "    ratings = []\n",
    "\n",
    "    p1row1 = bowl_table1.find('div',{'class':'rankings-block__banner'})\n",
    "    rank = p1row1.find('div',{'class':'rankings-block__banner--pos'}).text.strip()\n",
    "    p1row11 = p1row1.find('div',{'class':'rankings-block__banner--player-info'})\n",
    "    name = p1row11.find('div',{'class':'rankings-block__banner--name'}).text\n",
    "    team_rating = p1row11.find('div',{'class':'rankings-block__banner--nationality'})\n",
    "    rating = team_rating.find('div',{'class':'rankings-block__banner--rating'}).text\n",
    "    team = remove(team_rating.text,rating).strip()\n",
    "    ranks.append(rank)\n",
    "    names.append(name)\n",
    "    teams.append(team)\n",
    "    ratings.append(rating)\n",
    "\n",
    "    p1rows = bowl_table2.find_all('tr',{'class':'table-body'})\n",
    "    for prow in p1rows:\n",
    "        try:\n",
    "            rank_desc = prow.find('span',{'class':'ranking-pos'}).text\n",
    "        except AttributeError:\n",
    "            return\n",
    "        rank = rank = remove(prow.find('td',{'class':'table-body__cell table-body__cell--position u-text-right'}).text,rank_desc).strip()\n",
    "        name = prow.find('td',{'class':'table-body__cell name'}).a.text\n",
    "        team = prow.find('td',{'class':'table-body__cell nationality-logo'}).text.strip()\n",
    "        rating = prow.find('td',{'class':'table-body__cell u-text-right rating'}).text\n",
    "        ranks.append(rank)\n",
    "        names.append(name)\n",
    "        teams.append(team)\n",
    "        ratings.append(rating)\n",
    "    driver.close()\n",
    "    bowlers = pd.DataFrame({'Rank':ranks,'name':names,'team':teams,'ratings':ratings})\n",
    "    return bowlers"
   ]
  },
  {
   "cell_type": "code",
   "execution_count": 15,
   "metadata": {},
   "outputs": [
    {
     "name": "stdout",
     "output_type": "stream",
     "text": [
      "  Rank            name team ratings\n",
      "0    1   Jess Jonassen  AUS     804\n",
      "1    2  Marizanne Kapp   SA     738\n",
      "2    3    Megan Schutt  AUS     735\n",
      "3    4  Shabnim Ismail   SA     717\n",
      "4    5  Jhulan Goswami  IND     691\n",
      "5    6    Poonam Yadav  IND     679\n",
      "6    7   Shikha Pandey  IND     675\n",
      "7    8    Ellyse Perry  AUS     666\n",
      "8    9  Anya Shrubsole  ENG     645\n",
      "9   10   Deepti Sharma  IND     639\n"
     ]
    }
   ],
   "source": [
    "print(top_bowlers())"
   ]
  },
  {
   "cell_type": "code",
   "execution_count": 16,
   "metadata": {},
   "outputs": [],
   "source": [
    "def top_allround():\n",
    "    from selenium import webdriver\n",
    "    from bs4 import BeautifulSoup\n",
    "    import pandas as pd\n",
    "    \n",
    "    #Function to clean some text\n",
    "    def remove(string,dummy): \n",
    "        return string.replace(dummy, \"\")\n",
    "    \n",
    "    url = 'https://www.icc-cricket.com/rankings/womens/player-rankings/odi'\n",
    "    driver = webdriver.Chrome()\n",
    "    driver.get(url)\n",
    "    psoup = BeautifulSoup(driver.page_source,'html.parser')\n",
    "    all_table1 = psoup.find('div',{'data-title':'ODI All-Rounder Rankings'})\n",
    "    all_table2 = all_table1.table.tbody\n",
    "    ranks = []\n",
    "    names = []\n",
    "    teams = []\n",
    "    ratings = []\n",
    "\n",
    "    p1row1 = all_table1.find('div',{'class':'rankings-block__banner'})\n",
    "    rank = p1row1.find('div',{'class':'rankings-block__banner--pos'}).text.strip()\n",
    "    p1row11 = p1row1.find('div',{'class':'rankings-block__banner--player-info'})\n",
    "    name = p1row11.find('div',{'class':'rankings-block__banner--name'}).text\n",
    "    team_rating = p1row11.find('div',{'class':'rankings-block__banner--nationality'})\n",
    "    rating = team_rating.find('div',{'class':'rankings-block__banner--rating'}).text\n",
    "    team = remove(team_rating.text,rating).strip()\n",
    "    ranks.append(rank)\n",
    "    names.append(name)\n",
    "    teams.append(team)\n",
    "    ratings.append(rating)\n",
    "\n",
    "    p1rows = all_table2.find_all('tr',{'class':'table-body'})\n",
    "    for prow in p1rows:\n",
    "        try:\n",
    "            rank_desc = prow.find('span',{'class':'ranking-pos'}).text\n",
    "        except AttributeError:\n",
    "            return\n",
    "        rank = rank = remove(prow.find('td',{'class':'table-body__cell table-body__cell--position u-text-right'}).text,rank_desc).strip()\n",
    "        name = prow.find('td',{'class':'table-body__cell name'}).a.text\n",
    "        team = prow.find('td',{'class':'table-body__cell nationality-logo'}).text.strip()\n",
    "        rating = prow.find('td',{'class':'table-body__cell u-text-right rating'}).text\n",
    "        ranks.append(rank)\n",
    "        names.append(name)\n",
    "        teams.append(team)\n",
    "        ratings.append(rating)\n",
    "    driver.close()\n",
    "    all_rounders = pd.DataFrame({'Rank':ranks,'name':names,'team':teams,'ratings':ratings})\n",
    "    return all_rounders"
   ]
  },
  {
   "cell_type": "code",
   "execution_count": 17,
   "metadata": {},
   "outputs": [
    {
     "name": "stdout",
     "output_type": "stream",
     "text": [
      "  Rank              name team ratings\n",
      "0    1      Ellyse Perry  AUS     460\n",
      "1    2   Stafanie Taylor   WI     410\n",
      "2    3    Marizanne Kapp   SA     389\n",
      "3    4     Deepti Sharma  IND     359\n",
      "4    5  Dane van Niekerk   SA     335\n",
      "5    6     Jess Jonassen  AUS     301\n",
      "6    7     Sophie Devine   NZ     289\n",
      "7    8    Natalie Sciver  ENG     273\n",
      "8    9     Shikha Pandey  IND     250\n",
      "9   10   Katherine Brunt  ENG     232\n"
     ]
    }
   ],
   "source": [
    "print(top_allround())"
   ]
  },
  {
   "cell_type": "code",
   "execution_count": null,
   "metadata": {},
   "outputs": [],
   "source": []
  }
 ],
 "metadata": {
  "kernelspec": {
   "display_name": "Python 3",
   "language": "python",
   "name": "python3"
  },
  "language_info": {
   "codemirror_mode": {
    "name": "ipython",
    "version": 3
   },
   "file_extension": ".py",
   "mimetype": "text/x-python",
   "name": "python",
   "nbconvert_exporter": "python",
   "pygments_lexer": "ipython3",
   "version": "3.7.6"
  }
 },
 "nbformat": 4,
 "nbformat_minor": 4
}
