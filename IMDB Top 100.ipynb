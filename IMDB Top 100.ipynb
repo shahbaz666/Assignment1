{
 "cells": [
  {
   "cell_type": "code",
   "execution_count": 1,
   "metadata": {},
   "outputs": [],
   "source": [
    "def imdb_top100():\n",
    "    import csv\n",
    "    from selenium import webdriver\n",
    "    from bs4 import BeautifulSoup\n",
    "    \n",
    "    #Function to extract info from a result\n",
    "    def extract_record(item):\n",
    "        \"\"\"extract and return result from a single result\"\"\"\n",
    "        a_tag = item.h3.a\n",
    "        name = a_tag.text\n",
    "        rating = item.find('span',{'class':'ipl-rating-star__rating'}).text\n",
    "        year = item.find('span',{'class':'lister-item-year text-muted unbold'}).text\n",
    "        result = (name,rating,year)\n",
    "        return result\n",
    "    \n",
    "    url = 'https://www.imdb.com/list/ls091520106/'\n",
    "    driver = webdriver.Chrome()\n",
    "    driver.get(url)\n",
    "    soup = BeautifulSoup(driver.page_source,'html.parser')\n",
    "    results = soup.find_all('div',{\"class\":\"lister-item-content\"})\n",
    "    records = []\n",
    "    for item in results:\n",
    "        record = extract_record(item)\n",
    "        records.append(record)\n",
    "    driver.close()\n",
    "    return records"
   ]
  },
  {
   "cell_type": "code",
   "execution_count": 2,
   "metadata": {},
   "outputs": [
    {
     "name": "stdout",
     "output_type": "stream",
     "text": [
      "[('The Shawshank Redemption', '9.3', '(1994)'), ('The Godfather', '9.2', '(1972)'), ('The Godfather: Part II', '9', '(1974)'), ('The Dark Knight', '9', '(2008)'), ('12 Angry Men', '8.9', '(1957)'), (\"Schindler's List\", '8.9', '(1993)'), ('The Lord of the Rings: The Return of the King', '8.9', '(2003)'), ('Pulp Fiction', '8.9', '(1994)'), ('The Good, the Bad and the Ugly', '8.8', '(1966)'), ('Fight Club', '8.8', '(1999)'), ('Joker', '8.5', '(2019)'), ('The Lord of the Rings: The Fellowship of the Ring', '8.8', '(2001)'), ('Forrest Gump', '8.8', '(1994)'), ('Inception', '8.8', '(2010)'), ('Star Wars: Episode V - The Empire Strikes Back', '8.7', '(1980)'), ('The Lord of the Rings: The Two Towers', '8.7', '(2002)'), ('The Matrix', '8.7', '(1999)'), (\"One Flew Over the Cuckoo's Nest\", '8.7', '(1975)'), ('Goodfellas', '8.7', '(1990)'), ('Seven Samurai', '8.6', '(1954)'), ('Se7en', '8.6', '(1995)'), ('City of God', '8.6', '(2002)'), ('Life Is Beautiful', '8.6', '(1997)'), ('The Silence of the Lambs', '8.6', '(1991)'), ('Star Wars: Episode IV - A New Hope', '8.6', '(1977)'), (\"It's a Wonderful Life\", '8.6', '(1946)'), ('Saving Private Ryan', '8.6', '(1998)'), ('Spirited Away', '8.6', '(2001)'), ('The Green Mile', '8.6', '(1999)'), ('Léon: The Professional', '8.5', '(1994)'), ('Harakiri', '8.6', '(1962)'), ('Interstellar', '8.6', '(2014)'), ('The Usual Suspects', '8.5', '(1995)'), ('The Lion King', '8.5', '(1994)'), ('American History X', '8.5', '(1998)'), ('Back to the Future', '8.5', '(1985)'), ('The Pianist', '8.5', '(2002)'), ('Modern Times', '8.5', '(1936)'), ('Terminator 2: Judgment Day', '8.5', '(1991)'), ('The Intouchables', '8.5', '(2011)'), ('Psycho', '8.5', '(1960)'), ('Gladiator', '8.5', '(2000)'), ('City Lights', '8.5', '(1931)'), ('The Departed', '8.5', '(2006)'), ('Whiplash', '8.5', '(2014)'), ('Once Upon a Time in the West', '8.5', '(1968)'), ('The Prestige', '8.5', '(2006)'), ('Avengers: Endgame', '8.4', '(2019)'), ('Casablanca', '8.5', '(1942)'), ('Grave of the Fireflies', '8.5', '(1988)'), ('Rear Window', '8.4', '(1954)'), ('Cinema Paradiso', '8.5', '(1988)'), ('Alien', '8.4', '(1979)'), ('Raiders of the Lost Ark', '8.4', '(1981)'), ('Memento', '8.4', '(2000)'), ('Apocalypse Now', '8.4', '(1979)'), ('The Great Dictator', '8.4', '(1940)'), ('The Lives of Others', '8.4', '(2006)'), ('Avengers: Infinity War', '8.4', '(2018)'), ('Django Unchained', '8.4', '(2012)'), ('Spider-Man: Into the Spider-Verse', '8.4', '(2018)'), ('The Shining', '8.4', '(1980)'), ('Paths of Glory', '8.4', '(1957)'), ('WALL·E', '8.4', '(2008)'), ('Sunset Blvd.', '8.4', '(1950)'), ('Dr. Strangelove or: How I Learned to Stop Worrying and Love the Bomb', '8.4', '(1964)'), ('Princess Mononoke', '8.4', '(1997)')]\n"
     ]
    }
   ],
   "source": [
    "print(imdb_top100())"
   ]
  },
  {
   "cell_type": "code",
   "execution_count": null,
   "metadata": {},
   "outputs": [],
   "source": []
  }
 ],
 "metadata": {
  "kernelspec": {
   "display_name": "Python 3",
   "language": "python",
   "name": "python3"
  },
  "language_info": {
   "codemirror_mode": {
    "name": "ipython",
    "version": 3
   },
   "file_extension": ".py",
   "mimetype": "text/x-python",
   "name": "python",
   "nbconvert_exporter": "python",
   "pygments_lexer": "ipython3",
   "version": "3.7.6"
  }
 },
 "nbformat": 4,
 "nbformat_minor": 4
}
