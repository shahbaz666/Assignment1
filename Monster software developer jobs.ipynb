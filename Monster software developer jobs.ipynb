{
 "cells": [
  {
   "cell_type": "code",
   "execution_count": 3,
   "metadata": {},
   "outputs": [],
   "source": [
    "def monster_sd_jobs():\n",
    "    import csv\n",
    "    from selenium import webdriver\n",
    "    from bs4 import BeautifulSoup\n",
    "    all_url = ['https://www.monsterindia.com/srp/results?query=software%20developer',\n",
    "           'https://www.monsterindia.com/srp/results?start=25&sort=1&limit=25&query=software%20developer',\n",
    "          'https://www.monsterindia.com/srp/results?start=50&sort=1&limit=25&query=software%20developer',\n",
    "          'https://www.monsterindia.com/srp/results?start=75&sort=1&limit=25&query=software%20developer',\n",
    "          'https://www.monsterindia.com/srp/results?start=100&sort=1&limit=25&query=software%20developer']\n",
    "    #Function for extracting data from one search result\n",
    "    def extract_record(item):\n",
    "        \"\"\"extract and return result from a single result\"\"\"\n",
    "        try:\n",
    "            postition = item.h3.a.text\n",
    "            comapny = item.span.a.text\n",
    "            location = item.find('div',{'class':'col-xxs-12 col-sm-5 text-ellipsis'}).text.strip()\n",
    "            experience = item.find('div',{'class':'exp col-xxs-12 col-sm-3 text-ellipsis'}).text.strip()\n",
    "            salary = item.find('div',{'class':'package col-xxs-12 col-sm-4 text-ellipsis'}).text.strip()\n",
    "            jd = item.find('p',{'class':'job-descrip'}).text.strip()\n",
    "            skills = remove(item.find('p',{'class':'descrip-skills'}).text.strip())\n",
    "            posted = item.find('span',{'class':'posted'}).text.strip()\n",
    "        except AttributeError:\n",
    "            return\n",
    "        result = (postition,comapny,location,experience,salary,jd,skills,posted)\n",
    "        return result\n",
    "    #Function to clean some text\n",
    "    def remove(string): \n",
    "        return string.replace(\" \", \"\").replace(\"\\n\", \" \")\n",
    "    records=[]\n",
    "    driver = webdriver.Chrome()\n",
    "    for url in all_url:\n",
    "        driver.get(url)\n",
    "        soup = BeautifulSoup(driver.page_source,'html.parser')\n",
    "        results = soup.find_all('div',{\"class\":\"card-panel apply-panel job-apply-card\"})\n",
    "        for item in results:\n",
    "            record = extract_record(item)\n",
    "            records.append(record)\n",
    "    driver.close()\n",
    "    return records"
   ]
  },
  {
   "cell_type": "code",
   "execution_count": 4,
   "metadata": {},
   "outputs": [
    {
     "name": "stdout",
     "output_type": "stream",
     "text": [
      "[('Application Developer ', 'Yuvraj Education Services Private Limited', 'Mumbai, Pune, Mumbai City, Navi Mumbai', '3-7 Years', '2,10,000-4,50,000 INR', 'Yuvraj Education Services is looking for an ambitious and energetic Application developer to help us for our app Minimum 3 years working experience as a Application developer Must be conversant with Skill Required:- Android developer with Java skills', 'Skills: ApplicationDeveloper , SoftwareDeveloper , Java , MobileApplication , Mobiledevelopment', 'Posted: 9 days ago'), ('Software Test Engineer, Software Engineer/Programmer', 'Manheer Singh (Proprietor Of BigBoss Decor)', 'Mumbai', '0-3 Years', '2,20,000-4,09,999 INR', 'Looking for Software Test Engineer, Software Engineer/Programmer', 'Skills: Hardware , IT , Developer , SoftwareEngineer , Softwaredeveloper , Softwareprogrammer', 'Posted: 11 days ago'), ('Software Developer - Fresher/ Intern', 'Fly Care India', 'Bengaluru / Bangalore', '0-1 Years', '2,00,000-2,50,000 INR', 'Good Opportunity For Software Developer - Fresher/ Intern.', 'Skills: Java , SoftwareDevelopment , WebTechnologies , CSS , Hibernate , FrontEnd , Html5 , MySQL , Javascript , Bootstrap', 'Posted: 30+ days ago'), ('Software Developer, Technical Architect', 'Gravity Career Solution', 'Visakhapatnam', '0-4 Years', '2,40,000-4,09,999 INR', 'Looking for AutoCAD Designer/AutoCAD Piping Draughtsman/AutoCAD Draughtsman', 'Skills: TechnicalAnalyst , SoftwareDeveloper , SoftwareEngineer', 'Posted: 16 days ago'), ('MongoDB/ Lead Developer /  Software Developer', 'MITS Solution', 'Hyderabad / Secunderabad', '0-10 Years', '0-0 INR', 'Hiring MongoDB role for Hyderabad Location for 0-10 Yrs-Register Here :-https://bit.ly/2yzA2Pa', 'Skills: MngoDB , LeadDeveloper , SoftwareDeveloper , Linux', 'Posted: 16 days ago'), ('Java Fresher ', 'Solitaire Infotech Solution', 'Aurangabad', '0-1 Years', '1,50,000-2,20,000 INR', 'No physical presence required. All the process from interview to selection will be online.\\n \\n We are hiring for Freshers Java Developer\\n Yrs of exp : 0 - 1 year', 'Skills: JavaDeveloperFresher , Java , CoreJava , JavaFresher', 'Posted: 5 days ago'), ('PHP / Laravel developer ', 'Divtech Execollab Info Solutions Private Limited', 'Bengaluru / Bangalore, Cochin / Kochi / Ernakulam', '2-5 Years', 'Not Specified', 'Awesome opportunity for the individuals who are willing to take responsibility of their tasks and want to grow exponentially in terms of salary, knowledge and role.', 'Skills: Programmer , SoftwareEngineer , Softwaredeveloper , Coding', 'Posted: 18 days ago'), ('Software Developer ', 'Lapaya Luggage Private Limited', 'Jaipur', '1-3 Years', 'Not Specified', 'Hiring software developer for our company.', 'Skills: SoftwareDeveloper , SoftwareDevelopment', 'Posted: 30+ days ago'), ('Instructor/Developer - Robotics & Programming (Online & office Roles)', 'India Manpower Group', 'Hyderabad / Secunderabad', '0-4 Years', '2,29,999-6,10,000 INR', 'Looking for Instructor/Developer - Robotics & Programming (Online & office Roles)', 'Skills: Developer , Programmer , Softwaredeveloper , Softwareprogrammer', 'Posted: 17 days ago'), ('Hiring Trainee Software .NET Developer - Fresher', 'Manheer Singh (Proprietor Of BigBoss Decor)', 'Mumbai', '0-1 Years', '1,50,000-2,29,999 INR', 'Immediate Hiring Trainee Software .NET Developer - Fresher.', 'Skills: .NetDeveloper , Fresher , erpandcrm , SoftwareDevelopment , .NET , ItFresher , JavaScript , MicrosoftAzure , AWS , Javascript , sqlserver', 'Posted: 9 days ago'), ('Software Tester/Flutter Developer/Unity3D Developer', 'Fly Care India', 'Kannur', '0-3 Years', '2,40,000-5,40,000 INR', 'Looking for Software Tester/Flutter Developer/Unity3D Developer', 'Skills: Analyst , SoftwareDeveloper , SoftwareEngineer , Programmer', 'Posted: 23 days ago'), ('Senior Software Developer (PHP)', 'Krudh Solutions For Life Private Limited', 'Hyderabad / Secunderabad', '5-8 Years', '10,00,000-12,00,000 INR', 'Job Description:\\n •\\tDevelop and enhance new and existing software applications\\n •\\tMentor and train other team members\\n •\\tGain knowledge of the Energy Industry\\n •\\tProvide documentation and training on the solution', 'Skills: native , Less , Xamarin , Bootstrap , Wireframing , Prototyping', 'Posted: 9 days ago'), ('Software Developer Fresher', 'India Manpower Group', 'Vadodara', '0-5 Years', '2,50,000-4,20,000 INR', 'Looking for Software Developer Fresher', 'Skills: SoftwareDeveloper , SoftwareEngineer , Softwareprogrammer , Programmer', 'Posted: 30+ days ago'), ('Software Support Engineer', 'Acute Informatics Private Limited', 'Ahmedabad', '0-1 Years', 'Not Specified', 'We are looking for a Software Support engineer/Developer with the good knowledge and skills of PL SQL.', 'Skills: SoftwareEngineer , Softwaredeveloper , PlSql', 'Posted: 24 days ago'), ('Requirement In Overseas  : Software Engineering Software Developer  Software Programmer ', 'Recruitment Canada Immigration Canada', 'Australia, Canada', '3-11 Years', 'Not Specified', '[ 100% ASSURED JOB PLUS + VISA ]\\n  \\n  Kindly Send Your Resume For Further Process\\n  \\n   [HIDDEN TEXT] \\n  \\n  \\n  REQUIRED POSITION \\n  \\n  Any: \"Software Engineering\", \"Software Project Management\", \"Artificial Intelligence\", \"Computer Architecture\", C++, C, Java,', 'Skills: SoftwareEngineer , SoftwareDeveloper , Softwareprogrammer', 'Posted: 25 days ago'), ('Software Development Engineer', 'Team Management Services', 'Mumbai', '5-10 Years', 'Not Specified', 'Java Developer\\n Knowledge of 3rd party web services across technologies like REST, SOAP.', 'Skills: Javadeveloper , SoftwareDeveloper , SoftwareProgrammer', 'Posted: 21 days ago'), ('URGENTLY REQUIRED BSc-CS, BSc-IT GRADUATES (FRESHERS) FOR SOFTWARE DEVELOPER POSITIONS AT BANGALORE.', 'TRANSVISION SOFTWARE AND DATA SOLUTIONS PVT LTD', 'Bengaluru / Bangalore', '0-1 Years', 'Not Specified', 'FOR A BANGALORE BASED IT COMPANY-URGENTLY REQUIRED BSc-CS/BSc-IT GRADUATES (FRESHERS)-WHO HAVE COMPLETED THE SOFTWARE DEVELOPMENT TRAINING IN JAVA OR ASP .NET OR ANDROID DOMAIN FROM ANY REPUTED TRAINING INSTITUTES. MAX AGE-23 YEARS/WORK LOCATION.....', 'Skills: SoftwareDeveloper , Java , .NET , AndroidApplication', 'Posted: a month ago'), ('ETL Developer ', 'AasaanJobs Private Limited', 'Bengaluru / Bangalore', '5-8 Years', '1,90,000-10,90,000 INR', 'ETL developer with python and sql', 'Skills: ETLDeveloper , python , Sql', 'Posted: 10 days ago'), ('Software Developer Software Engineer ', 'India Manpower Group', 'Gurgaon / Gurugram', '0-3 Years', '3,50,000-6,60,000 INR', 'looking Software Developer Software Engineer fresher and experience both are apply', 'Skills: IT , Developer , SoftwareEngineer , Softwaredeveloper , SeniorSoftwareEngineer , Softwareprogrammer , Programmer', 'Posted: 30+ days ago'), None, ('Hiring Software Developer', 'Gravity Career Solution', 'Gurgaon / Gurugram', '0-2 Years', '2,00,000-3,20,000 INR', 'Passionate developers to work across the entire system architecture, from the backend to the front end, to design, develop, and support high quality and scalable products.', 'Skills: ComputerScience , Backend , SystemArchitecture , jQuery , FrontEnd , Coding , Datastructures , HTML , OpenSource , AJAX', 'Posted: 17 days ago'), ('Software Programmer ', 'India Manpower Group', 'Hyderabad / Secunderabad', '0-2 Years', '4,50,000-7,50,000 INR', 'Looking for job description \\n fresher can also applied', 'Skills: SoftwareDeveloper , SoftwareEngineer , Softwareprogrammer , Programmer', 'Posted: 17 days ago'), ('Hiring for Software Developer(Contract 1 year extends)', 'Smart And Prompt Hr Services Private Limited', 'Thiruvananthapuram / Trivandrum', '4-8 Years', 'Not Specified', 'We are looking for digital solutions company.What makes us different and the most sought after is how we incorporate emerging technologies into our modus operandi.We are looking for Software Developer(SQL,Angular).', 'Skills: Sql , Angular', 'Posted: 5 days ago'), ('Wordpress Developer  Software Developer ', 'Fly Care India', 'Hyderabad / Secunderabad', '0-4 Years', '2,29,999-4,50,000 INR', 'Looking for Wordpress Developer  Software Developer \\n Fresher also apply', 'Skills: SoftwareDeveloper , Wordpress , WordpressDeveloper , Php', 'Posted: 30+ days ago'), ('Required Software Engineer ', 'Solitaire Infotech Solution', 'Bhubaneswar', '1-2 Years', '2,00,000-3,50,000 INR', 'We are currently looking for an Associate Software Engineer who is excited about building internally facing platforms and services that improve developer productivity, efficiency, and engineering excellence.', 'Skills: CommunicationSkills , ComputerScience , Java , Javascript , HTML , SoftwareEngineering , SoftwareDevelopment', 'Posted: 3 days ago')]\n"
     ]
    }
   ],
   "source": [
    "print(monster_sd_jobs())"
   ]
  },
  {
   "cell_type": "code",
   "execution_count": null,
   "metadata": {},
   "outputs": [],
   "source": []
  }
 ],
 "metadata": {
  "kernelspec": {
   "display_name": "Python 3",
   "language": "python",
   "name": "python3"
  },
  "language_info": {
   "codemirror_mode": {
    "name": "ipython",
    "version": 3
   },
   "file_extension": ".py",
   "mimetype": "text/x-python",
   "name": "python",
   "nbconvert_exporter": "python",
   "pygments_lexer": "ipython3",
   "version": "3.7.6"
  }
 },
 "nbformat": 4,
 "nbformat_minor": 4
}
