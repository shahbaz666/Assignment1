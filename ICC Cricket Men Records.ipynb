{
 "cells": [
  {
   "cell_type": "markdown",
   "metadata": {},
   "source": [
    "# Top 10 ODI Teams - Men"
   ]
  },
  {
   "cell_type": "code",
   "execution_count": 1,
   "metadata": {},
   "outputs": [],
   "source": [
    "def top_teams():\n",
    "    from selenium import webdriver\n",
    "    from bs4 import BeautifulSoup\n",
    "    import pandas as pd\n",
    "    url = 'https://www.icc-cricket.com/rankings/mens/team-rankings/odi'\n",
    "    driver = webdriver.Chrome()\n",
    "    driver.get(url)\n",
    "    soup = BeautifulSoup(driver.page_source,'html.parser')\n",
    "    table = soup.find('table',{'class':'table'}).tbody\n",
    "    \n",
    "    ranks = []\n",
    "    teams = []\n",
    "    matches = []\n",
    "    points = []\n",
    "    ratings = []\n",
    "    row1 = table.find('tr',{'class':'rankings-block__banner'})\n",
    "    rank = row1.find('td',{'class':'rankings-block__banner--pos'}).text\n",
    "    team_dummy = row1.find('td',{'class':'rankings-block__banner--team-name'})\n",
    "    team = team_dummy.find('span',{'class':'u-hide-phablet'}).text\n",
    "    match = row1.find('td',{'class':'rankings-block__banner--matches'}).text\n",
    "    point = row1.find('td',{'class':'rankings-block__banner--points'}).text\n",
    "    rating = row1.find('td',{'class':'rankings-block__banner--rating u-text-right'}).text.strip()\n",
    "    ranks.append(rank)\n",
    "    teams.append(team)\n",
    "    matches.append(match)\n",
    "    points.append(point)\n",
    "    ratings.append(rating)\n",
    "    \n",
    "    rows = table.find_all('tr',{'class':'table-body'},limit=9)\n",
    "    for row in rows:\n",
    "        rank = row.find('td',{'class':'table-body__cell table-body__cell--position u-text-right'}).text\n",
    "        team_dummy = row.find('td',{'class':'table-body__cell rankings-table__team'})\n",
    "        team = team_dummy.find('span',{'class':'u-hide-phablet'}).text\n",
    "        match_points = row.find_all('td',{'class':'table-body__cell u-center-text'})\n",
    "        match = match_points[0].text\n",
    "        point = match_points[1].text\n",
    "        rating = row.find('td',{'class':'table-body__cell u-text-right rating'}).text\n",
    "        ranks.append(rank)\n",
    "        teams.append(team)\n",
    "        matches.append(match)\n",
    "        points.append(point)\n",
    "        ratings.append(rating)\n",
    "    driver.close()\n",
    "    teams = pd.DataFrame({'Rank':ranks,'team':teams,'matches':matches,'points':points,'ratings':ratings})\n",
    "    return teams"
   ]
  },
  {
   "cell_type": "code",
   "execution_count": 2,
   "metadata": {},
   "outputs": [
    {
     "name": "stdout",
     "output_type": "stream",
     "text": [
      "  Rank          team matches points ratings\n",
      "0    1       England      44  5,405     123\n",
      "1    2         India      49  5,819     119\n",
      "2    3   New Zealand      32  3,716     116\n",
      "3    4     Australia      36  3,941     109\n",
      "4    5  South Africa      31  3,345     108\n",
      "5    6      Pakistan      35  3,590     103\n",
      "6    7    Bangladesh      34  2,989      88\n",
      "7    8     Sri Lanka      39  3,297      85\n",
      "8    9   West Indies      43  3,285      76\n",
      "9   10   Afghanistan      28  1,549      55\n"
     ]
    }
   ],
   "source": [
    "print(top_teams())"
   ]
  },
  {
   "cell_type": "markdown",
   "metadata": {},
   "source": [
    "# Top 10 ODI Batsmen & Bowlers - Men"
   ]
  },
  {
   "cell_type": "code",
   "execution_count": 13,
   "metadata": {},
   "outputs": [],
   "source": [
    "def top_batsmen():\n",
    "    from selenium import webdriver\n",
    "    from bs4 import BeautifulSoup\n",
    "    import pandas as pd\n",
    "    \n",
    "    #Function to clean some text\n",
    "    def remove(string,dummy): \n",
    "        return string.replace(dummy, \"\")\n",
    "    \n",
    "    url = 'https://www.icc-cricket.com/rankings/mens/player-rankings/odi'\n",
    "    driver = webdriver.Chrome()\n",
    "    driver.get(url)\n",
    "    psoup = BeautifulSoup(driver.page_source,'html.parser')\n",
    "    bat_table1 = psoup.find('div',{'data-title':'ODI Batting Rankings'})\n",
    "    bat_table2 = bat_table1.table.tbody\n",
    "    ranks = []\n",
    "    names = []\n",
    "    teams = []\n",
    "    ratings = []\n",
    "    prow1 = bat_table1.find('div',{'class':'rankings-block__banner'})\n",
    "    rank = prow1.find('div',{'class':'rankings-block__banner--pos'}).text.strip()\n",
    "    prow11 = prow1.find('div',{'class':'rankings-block__banner--player-info'})\n",
    "    name = prow11.find('div',{'class':'rankings-block__banner--name'}).text\n",
    "    team_rating = prow11.find('div',{'class':'rankings-block__banner--nationality'})\n",
    "    rating = team_rating.find('div',{'class':'rankings-block__banner--rating'}).text\n",
    "    team = remove(team_rating.text,rating).strip()\n",
    "    ranks.append(rank)\n",
    "    names.append(name)\n",
    "    teams.append(team)\n",
    "    ratings.append(rating)\n",
    "\n",
    "    prows = bat_table2.find_all('tr',{'class':'table-body'})\n",
    "    for prow in prows:\n",
    "        try:\n",
    "            rank_desc = prow.find('span',{'class':'ranking-pos'}).text\n",
    "        except AttributeError:\n",
    "            return\n",
    "        rank = remove(prow.find('td',{'class':'table-body__cell table-body__cell--position u-text-right'}).text,rank_desc).strip()\n",
    "        name = prow.find('td',{'class':'table-body__cell name'}).a.text\n",
    "        team = prow.find('td',{'class':'table-body__cell nationality-logo'}).text.strip()\n",
    "        rating = prow.find('td',{'class':'table-body__cell u-text-right rating'}).text\n",
    "        ranks.append(rank)\n",
    "        names.append(name)\n",
    "        teams.append(team)\n",
    "        ratings.append(rating)\n",
    "    batsmen = pd.DataFrame({'Rank':ranks,'name':names,'team':teams,'ratings':ratings})\n",
    "    driver.close()\n",
    "    return batsmen"
   ]
  },
  {
   "cell_type": "code",
   "execution_count": 14,
   "metadata": {},
   "outputs": [
    {
     "name": "stdout",
     "output_type": "stream",
     "text": [
      "  Rank                 name team ratings\n",
      "0    1          Virat Kohli  IND     871\n",
      "1    2         Rohit Sharma  IND     855\n",
      "2    3           Babar Azam  PAK     837\n",
      "3    4          Ross Taylor   NZ     818\n",
      "4    5  Francois du Plessis   SA     790\n",
      "5    6      Kane Williamson   NZ     765\n",
      "6    7          Aaron Finch  AUS     762\n",
      "7    8         David Warner  AUS     759\n",
      "8    9      Quinton de Kock   SA     755\n",
      "9   10       Jonny Bairstow  ENG     754\n"
     ]
    }
   ],
   "source": [
    "print(top_batsmen())"
   ]
  },
  {
   "cell_type": "code",
   "execution_count": 18,
   "metadata": {},
   "outputs": [],
   "source": [
    "def top_bowlers():\n",
    "    from selenium import webdriver\n",
    "    from bs4 import BeautifulSoup\n",
    "    import pandas as pd\n",
    "    \n",
    "    #Function to clean some text\n",
    "    def remove(string,dummy): \n",
    "        return string.replace(dummy, \"\")\n",
    "    \n",
    "    url = 'https://www.icc-cricket.com/rankings/mens/player-rankings/odi'\n",
    "    driver = webdriver.Chrome()\n",
    "    driver.get(url)\n",
    "    psoup = BeautifulSoup(driver.page_source,'html.parser')\n",
    "    bowl_table1 = psoup.find('div',{'data-title':'ODI Bowling Rankings'})\n",
    "    bowl_table2 = bowl_table1.table.tbody\n",
    "    ranks = []\n",
    "    names = []\n",
    "    teams = []\n",
    "    ratings = []\n",
    "\n",
    "    p1row1 = bowl_table1.find('div',{'class':'rankings-block__banner'})\n",
    "    rank = p1row1.find('div',{'class':'rankings-block__banner--pos'}).text.strip()\n",
    "    p1row11 = p1row1.find('div',{'class':'rankings-block__banner--player-info'})\n",
    "    name = p1row11.find('div',{'class':'rankings-block__banner--name'}).text\n",
    "    team_rating = p1row11.find('div',{'class':'rankings-block__banner--nationality'})\n",
    "    rating = team_rating.find('div',{'class':'rankings-block__banner--rating'}).text\n",
    "    team = remove(team_rating.text,rating).strip()\n",
    "    ranks.append(rank)\n",
    "    names.append(name)\n",
    "    teams.append(team)\n",
    "    ratings.append(rating)\n",
    "\n",
    "\n",
    "\n",
    "\n",
    "    p1rows = bowl_table2.find_all('tr',{'class':'table-body'})\n",
    "    for prow in p1rows:\n",
    "        try:\n",
    "            rank_desc = prow.find('span',{'class':'ranking-pos'}).text\n",
    "        except AttributeError:\n",
    "            return\n",
    "        rank = rank = remove(prow.find('td',{'class':'table-body__cell table-body__cell--position u-text-right'}).text,rank_desc).strip()\n",
    "        name = prow.find('td',{'class':'table-body__cell name'}).a.text\n",
    "        team = prow.find('td',{'class':'table-body__cell nationality-logo'}).text.strip()\n",
    "        rating = prow.find('td',{'class':'table-body__cell u-text-right rating'}).text\n",
    "        ranks.append(rank)\n",
    "        names.append(name)\n",
    "        teams.append(team)\n",
    "        ratings.append(rating)\n",
    "    driver.close()\n",
    "    bowlers = pd.DataFrame({'Rank':ranks,'name':names,'team':teams,'ratings':ratings})\n",
    "    return bowlers"
   ]
  },
  {
   "cell_type": "code",
   "execution_count": 19,
   "metadata": {},
   "outputs": [
    {
     "name": "stdout",
     "output_type": "stream",
     "text": [
      "  Rank              name team ratings\n",
      "0    1       Trent Boult   NZ     722\n",
      "1    2    Jasprit Bumrah  IND     719\n",
      "2    3  Mujeeb Ur Rahman  AFG     701\n",
      "3    4      Chris Woakes  ENG     675\n",
      "4    5     Kagiso Rabada   SA     665\n",
      "5    6       Pat Cummins  AUS     659\n",
      "6    7    Josh Hazlewood  AUS     654\n",
      "7    8     Mohammad Amir  PAK     647\n",
      "8    9        Matt Henry   NZ     641\n",
      "9   10      Jofra Archer  ENG     637\n"
     ]
    }
   ],
   "source": [
    "print(top_bowlers())"
   ]
  },
  {
   "cell_type": "code",
   "execution_count": null,
   "metadata": {},
   "outputs": [],
   "source": []
  }
 ],
 "metadata": {
  "kernelspec": {
   "display_name": "Python 3",
   "language": "python",
   "name": "python3"
  },
  "language_info": {
   "codemirror_mode": {
    "name": "ipython",
    "version": 3
   },
   "file_extension": ".py",
   "mimetype": "text/x-python",
   "name": "python",
   "nbconvert_exporter": "python",
   "pygments_lexer": "ipython3",
   "version": "3.7.6"
  }
 },
 "nbformat": 4,
 "nbformat_minor": 4
}
