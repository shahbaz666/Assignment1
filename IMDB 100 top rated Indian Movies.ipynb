{
 "cells": [
  {
   "cell_type": "code",
   "execution_count": 1,
   "metadata": {},
   "outputs": [],
   "source": [
    "def imdb_top100_indian():\n",
    "    from selenium import webdriver\n",
    "    from bs4 import BeautifulSoup\n",
    "    import pandas as pd\n",
    "    url = 'https://www.imdb.com/india/top-rated-indian-movies/'\n",
    "    driver = webdriver.Chrome()\n",
    "    driver.get(url)\n",
    "    soup = BeautifulSoup(driver.page_source,'html.parser')\n",
    "    results = soup.find('table',{'class':'chart full-width'})\n",
    "    titles = []\n",
    "    ratings = []\n",
    "    years = []\n",
    "    for item in results.find_all('tbody'):\n",
    "        rows = item.find_all('tr',limit=100)\n",
    "        for row in rows:\n",
    "            title = row.find('td',{'class':'titleColumn'}).a.text\n",
    "            rating = row.find('td',{'class':'ratingColumn imdbRating'}).text.strip()\n",
    "            year = row.find('td',{'class':'titleColumn'}).span.text\n",
    "            titles.append(title)\n",
    "            ratings.append(rating)\n",
    "            years.append(year)\n",
    "    driver.close()\n",
    "    table = pd.DataFrame({'title':titles,'rating':ratings,'year':years})\n",
    "    return table"
   ]
  },
  {
   "cell_type": "code",
   "execution_count": 2,
   "metadata": {},
   "outputs": [
    {
     "name": "stdout",
     "output_type": "stream",
     "text": [
      "                          title rating    year\n",
      "0               Pather Panchali    8.5  (1955)\n",
      "1                   Hanky Panky    8.5  (1979)\n",
      "2                    Raatchasan    8.5  (2018)\n",
      "3                       Nayakan    8.5  (1987)\n",
      "4                    Anbe Sivam    8.5  (2003)\n",
      "..                          ...    ...     ...\n",
      "95                  Section 375    8.0  (2019)\n",
      "96         Lage Raho Munna Bhai    8.0  (2006)\n",
      "97                      Deewaar    8.0  (1975)\n",
      "98                       Indian    8.0  (1996)\n",
      "99  Dilwale Dulhania Le Jayenge    8.0  (1995)\n",
      "\n",
      "[100 rows x 3 columns]\n"
     ]
    }
   ],
   "source": [
    "print(imdb_top100_indian())"
   ]
  },
  {
   "cell_type": "code",
   "execution_count": null,
   "metadata": {},
   "outputs": [],
   "source": []
  }
 ],
 "metadata": {
  "kernelspec": {
   "display_name": "Python 3",
   "language": "python",
   "name": "python3"
  },
  "language_info": {
   "codemirror_mode": {
    "name": "ipython",
    "version": 3
   },
   "file_extension": ".py",
   "mimetype": "text/x-python",
   "name": "python",
   "nbconvert_exporter": "python",
   "pygments_lexer": "ipython3",
   "version": "3.7.6"
  }
 },
 "nbformat": 4,
 "nbformat_minor": 4
}
