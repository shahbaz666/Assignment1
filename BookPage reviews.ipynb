{
 "cells": [
  {
   "cell_type": "code",
   "execution_count": 1,
   "metadata": {},
   "outputs": [],
   "source": [
    "#Main Function for extracting book details and reviews\n",
    "def book_reviews():\n",
    "    #Importing Modules\n",
    "    from selenium import webdriver\n",
    "    from bs4 import BeautifulSoup\n",
    "    import csv\n",
    "    \n",
    "    #Function for extracting info from one result\n",
    "    def extract_record(item):\n",
    "        \"\"\"extract and return result from a single result\"\"\"\n",
    "        title = item.h4.a.text\n",
    "        author = item.find('p','sans bold').text.strip()\n",
    "        try:\n",
    "            genre = item.find('p','genre-links hidden-phone').a.text\n",
    "        except AttributeError:\n",
    "            return\n",
    "        review_url = 'https://www.bookpage.com' + item.find('div','read-full').a.get('href')\n",
    "        driver.get(review_url)\n",
    "        review_soup = BeautifulSoup(driver.page_source,'html.parser')\n",
    "        try:\n",
    "            review = review_soup.find('div','article-body').text.strip()\n",
    "        except AttributeError:\n",
    "            return\n",
    "        result = (title,author,genre,review)\n",
    "        return result\n",
    "    \n",
    "    #Using Chromedriver\n",
    "    url = 'https://bookpage.com/reviews'\n",
    "    driver = webdriver.Chrome()\n",
    "    driver.get(url)\n",
    "    soup = BeautifulSoup(driver.page_source,'html.parser')\n",
    "    results = soup.find_all('div',{\"class\":\"row-fluid article-row\"},limit=5)\n",
    "    \n",
    "    records = []\n",
    "    for item in results:\n",
    "        record = extract_record(item)\n",
    "        records.append(record)\n",
    "    driver.close()\n",
    "    return records"
   ]
  },
  {
   "cell_type": "code",
   "execution_count": 2,
   "metadata": {},
   "outputs": [
    {
     "name": "stdout",
     "output_type": "stream",
     "text": [
      "[None, ('Miss Benson’s Beetle', 'Rachel Joyce', 'Fiction', 'Rachel Joyce’s first novel, The Unlikely Pilgrimage of Harold Fry (2012), follows main character Harold on an improbable long walk across England as he comes to terms with his failures. Similarly, Miss Benson’s Beetle, Joyce’s fifth novel, tracks main character Margery Benson as she aims to make her own unlikely journey to an island called New Caledonia in the southwestern Pacific, to track down an elusive golden beetle.\\nIn 1950, the war is over, but rationing and shortages continue in London. Margery is a lonely 40-something soul, teaching home economics to snarky high school girls. When the girls go too far in making fun of her, Margery snaps and flees the school, snatching a pair of lacrosse boots in fury and frustration, an act that reminds her of her long-deferred goal of finding the golden beetle of New Caledonia.\\nBut it’s a preposterous dream. Margery has no academic credentials, no passport, no knowledge of New Caledonia and no money. Nevertheless, she persists, planning her journey and interviewing assistants. What follows is an epic, obstacle-filled journey from London to Australia and at last to New Caledonia, which in 1950 is a French colony. Margery and her assistant, Enid Pretty, arrive on the island woefully underprepared for the final part of their quest.\\nMiss Benson’s Beetle balances the light— including comic moments that highlight the discrepancies between stolid Margery and flighty Enid—with the dark, such as Margery’s trauma-filled youth. As with Harold Fry, the main character’s inner journey is the real one. Margery finds human connection she didn’t know she was missing and, through that connection, a deeper purpose in life. The novel also has a marvelous, economical way of contrasting the drab gray of postwar London with the vivid colors, sounds and smells of New Caledonia.\\nJoyce’s fiction has been slotted into “uplit,” a publishing term for novels that contain some dark moments but ultimately offer an uplifting ending. For readers who seek escape, Miss Benson’s Beetle is just right.'), (' ★ To Hold Up the Sky', 'Cixin Liu', 'Science Fiction & Fantasy', \"Short stories in science fiction are frequently answers to questions. What if, an author wonders, an incomprehensibly powerful alien being were inspired by an ice sculpture? Or what if there were nations in cyberspace, separate and distinct from their real-world counterparts? What if a world on the brink\\xa0of\\xa0annihilation could be saved by a poet? Or a teacher?\\nEach of these questions is explored in a story in Cixin Liu’s new collection, To Hold Up the Sky. These stories span three decades of his writing career, from 1985 to 2014, and although many have been published before, all\\xa0are new to his English-speaking audience. As with any writer over such a long period, Liu’s style evolves from the earliest stories to the more\\xa0recent ones, and yet\\xa0they are all immediately recognizable as his work.\\nIn some ways, Liu's point of view is\\xa0rare among science fiction novelists of his international stature. Unlike most of his peers in the\\xa0Western science fiction scene, whose worlds frequently comment on fundamental human failings or the dystopian struggles of an inconsistently ethical society, Liu’s work is suffused with an understated optimism. To Hold Up the Sky is no different. In fact, he hints at this in the foreword, where he mentions that in his writing, he is always attempting to depict “the relationship between the Great and the Small.” To him, the “Small” is all of humankind, and at this project's core, there's a presumption\\xa0that humans are always more united than we are divided,\\xa0that our communal nature is our defining characteristic as a species\\xa0and that free will, along with the frailties and flaws that it allows, is essential to that collaborative instinct. (And yes, that does sound like a contradiction, but this\\xa0is addressed and dispensed within one of the stories in To Hold Up the Sky.)\\nThis realistic but positive outlook\\xa0is shared by a few other science fiction writers—Isaac Asimov, Carl Sagan, Becky Chambers and Iain M. Banks come to mind—but rarely is it as essential to a speculated universe as in Liu’s prose. As a result, few writers achieve quite the same flavor of optimistic apocalypse or infuse existential dread with such a tangible thread of hope. Throughout To Hold Up the Sky, Liu brings his collections of ice sculptors and\\xa0poets and computer scientists and\\xa0military engineers teeteringly close to oblivion. He does so knowing that the crisis is finite, and that humanity in its feeble entirety will either survive, learn and grow,\\xa0or simply . . . stop. And he insists that there is beauty either way.\\nI am not certain if I agree with this sentiment. It is both too cynical and too idealistic for me. (See? Yet another contradiction!)\\xa0But either way, Liu is far too good a writer for me to put this book aside.\"), (' ★ The Book Collectors', 'Delphine Minoui', 'Nonfiction', '“Books bring us closer together. They’re a bridge between us,” Hussan Ayash tells journalist Delphine Minoui over Skype. Ayash belongs to a group of rebels in Syria who spent four years, from 2012 to 2016, under siege in Daraya, a suburb of Damascus. In 2013, they discovered a cache of books in the ruins of a bombed house and decided to rescue them. They dug through the wreckage of other buildings as well, salvaging 6,000 books in one week, and created a secret library in the basement of an abandoned building. In precise yet passionate prose, Minoui tells this remarkable story in The Book Collectors: A Band of Syrian Rebels and the Stories That Carried Them Through a War.\\nWith a French mother, an Iranian father and a home base in Istanbul, Minoui understands the region well and has won awards for her reporting on the Middle East. When she saw a photo of the library bunker, her first instinct was to travel to Daraya and start interviewing these unusual librarians. That journey would be impossible, however, so she began communicating with several of the young men online and formed an unusual relationship with them, worrying constantly about their safety. This personal connection forms the heart of the book, deepening the story while laying bare the sacrifice and deprivation of the rebels. For those four years, Daraya was besieged by bombs and poison gas, food was scarce, and there was no running water or electricity. As she communicated via video chat, Minoui remained careful to keep her coffee and snacks out of the camera’s view.\\n“The library is their hidden fortress against the bombs,” Minoui writes. “Books are their weapons of mass instruction.” Although a good many of the library’s founders hadn’t grown up as readers, they became book lovers during the long siege. The library’s most popular titles form an eclectic mix: Paulo Coelho’s The Alchemist, The Little Prince, Mustafa Khalifa’s The Shell, Les Misérables and The 7 Habits of Highly Effective People.\\nThe Book Collectors is a phenomenal story of hope in the midst of complete devastation. As 23-year-old Abu el-Ezz told Minoui in 2015, “Reading helps me think positively, chase away negative ideas. And that’s what we need most right now.”'), (' ★ The Enigma Game', 'Elizabeth Wein', 'YA', 'Scotland, 1940: At the Limehouse pub, the paths of the four protagonists of Elizabeth Wein’s gripping The Enigma Game\\xa0intersect. The proprietor hires recently orphaned Louisa as a personal assistant to her elderly, feisty Aunt Jane, an arrangement that benefits them both; getting a job has been difficult for Jamaican-born Louisa due to her dark skin, and no one wants to care for a German woman who might have once been a spy. Meanwhile, Ellen relishes the opportunity to conceal her Scottish Traveler heritage behind her respectable job as a military driver, and Flight Lieutenant Jaime Beaufort-Stuart simply hopes to bring his crew home alive after each mission. He and his fellow airmen from the nearby base each leave a sixpence in a crack in the Limehouse’s soft wood beams. If they return from their missions, they’ll use the money to buy themselves a drink; if their planes are shot down, their coins will remain as tokens, small marks upon the world.\\nA rogue German pilot leaves a mysterious object behind at the pub. It looks a bit like a typewriter but has additional switches and dials. Its keys, when pressed, light up, but the letter illuminated on the letter plate doesn’t match the letter typed. Louisa and Ellen work together to master the Enigma machine in order to break the German codes and feed Jaime the information he needs to save his pilots’ lives. But the codes themselves are sometimes in code, and an even larger intelligence mission waits in the wings.\\nReaders will enjoy The Enigma Game as a standalone thriller or as a prequel to Wein’s 2013 Printz Honor book, Code Name Verity, and 2017’s The Pearl Thief (watch for a favorite character to appear—in disguise). Highly distinct narrative voices spin a story of suspense and intrigue, including several remarkable incidents taken directly from historical records, as Wein explains in her detailed “Declaration of Accountability.” The Enigma Game furthers Wein’s streak of excellent historical fiction.\\nALSO IN BOOKPAGE: Author Elizabeth Wein reveals her literary superpower and the deeply personal inspiration behind one of the protagonists of The Enigma Game.')]\n"
     ]
    }
   ],
   "source": [
    "print(book_reviews())"
   ]
  },
  {
   "cell_type": "code",
   "execution_count": null,
   "metadata": {},
   "outputs": [],
   "source": []
  }
 ],
 "metadata": {
  "kernelspec": {
   "display_name": "Python 3",
   "language": "python",
   "name": "python3"
  },
  "language_info": {
   "codemirror_mode": {
    "name": "ipython",
    "version": 3
   },
   "file_extension": ".py",
   "mimetype": "text/x-python",
   "name": "python",
   "nbconvert_exporter": "python",
   "pygments_lexer": "ipython3",
   "version": "3.7.6"
  }
 },
 "nbformat": 4,
 "nbformat_minor": 4
}
