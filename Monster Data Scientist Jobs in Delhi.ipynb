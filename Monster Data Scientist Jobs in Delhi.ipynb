{
 "cells": [
  {
   "cell_type": "code",
   "execution_count": 22,
   "metadata": {},
   "outputs": [],
   "source": [
    "def monster_ds_jobs():\n",
    "    import csv\n",
    "    from selenium import webdriver\n",
    "    from bs4 import BeautifulSoup\n",
    "    url = 'https://www.monsterindia.com/srp/results?query=Data%20Scientist&locations=Delhi'\n",
    "    #Function for extracting data from one search result\n",
    "    def extract_record(item):\n",
    "        \"\"\"extract and return result from a single result\"\"\"\n",
    "        try:\n",
    "            postition = item.h3.a.text\n",
    "            comapny = item.span.a.text\n",
    "            location = item.find('div',{'class':'col-xxs-12 col-sm-5 text-ellipsis'}).text.strip()\n",
    "            experience = item.find('div',{'class':'exp col-xxs-12 col-sm-3 text-ellipsis'}).text.strip()\n",
    "            salary = item.find('div',{'class':'package col-xxs-12 col-sm-4 text-ellipsis'}).text.strip()\n",
    "            jd = item.find('p',{'class':'job-descrip'}).text.strip()\n",
    "            skills = remove(item.find('p',{'class':'descrip-skills'}).text.strip())\n",
    "            posted = item.find('span',{'class':'posted'}).text.strip()\n",
    "        except AttributeError:\n",
    "            return\n",
    "        result = (postition,comapny,location,experience,salary,jd,skills,posted)\n",
    "        return result\n",
    "    #Function to clean some text\n",
    "    def remove(string): \n",
    "        return string.replace(\" \", \"\").replace(\"\\n\", \" \")\n",
    "    \n",
    "    records=[]\n",
    "    driver = webdriver.Chrome()\n",
    "    driver.get(url)\n",
    "    soup = BeautifulSoup(driver.page_source,'html.parser')\n",
    "    results = soup.find_all('div',{\"class\":\"card-panel apply-panel job-apply-card\"})\n",
    "    for item in results:\n",
    "        record = extract_record(item)\n",
    "        records.append(record)\n",
    "    driver.close()\n",
    "    return records"
   ]
  },
  {
   "cell_type": "code",
   "execution_count": 23,
   "metadata": {},
   "outputs": [
    {
     "name": "stdout",
     "output_type": "stream",
     "text": [
      "[('Data Engineer - AI', 'Snaphunt Pte Ltd', 'Bengaluru / Bangalore, Delhi', '0-5 Years', 'Not Specified', 'Working with stakeholders to understand needs in order with respect to data structure, availability, scalability and accessibility.', 'Skills: ArtificialIntelligence , Bigdata , Hadoop', 'Posted: 10 days ago'), ('Data Engineer', 'Snaphunt Pte Ltd', 'Bengaluru / Bangalore, Delhi', '2-7 Years', 'Not Specified', 'Working with stakeholders to understand needs in order with respect to data structure, availability, scalability and accessibility.', 'Skills: DataAnalysis , DataMining , MachineLearning', 'Posted: 10 days ago'), ('Urgent Mass  Hiring  For Data Entry Operator Back Office  Call -  HR Avnii 9873377074', 'Call 2 Hire', 'Delhi, Noida', '0-2 Years', 'Not Specified', 'Job Title - Data Entry/ Typing Job \\n  Basic Computer Knowledge.\\n  Age Limit No Bar\\n  No Work Pressure\\n  No Time Bound\\n  Full / Part Time Jobs\\n  Fresher Also Apply\\n  Interested Candidate  can call for more info - HR Avnii mam 9873377074', 'Skills: BpoBackoffice , ContentWriter , ContentDeveloper , DataEntry , Content , BpoOperations', 'Posted: 23 days ago'), ('Data Analyst / Fresher /  Data Scientist / Graduate Fresher  - MNC - 7303778896 | 9560245147', 'Structured Learning Assistance Consultants India Private Limited', 'Delhi, Ghaziabad', '0-5 Years', 'Not Specified', 'Fresher Can Apply:\\n    \\n    Call @ 7303778896 | 9560245147', 'Skills: Freshers , Graduates , GraduateFresher , DataEntry , DataAnalysis , Mis , MarketResearch , Word , MISAnalyst , MisExecutive , BackOffice , Backend , DataManagement , Excel , DataScience , OperationsExecutive', 'Posted: 9 days ago'), ('Data Analyst / Fresher /  Data Scientist / Graduate Fresher  - MNC - 7303778896 | 9560245147', 'Structured Learning Assistance Consultants India Private Limited', 'Delhi, Ghaziabad', '0-5 Years', 'Not Specified', 'Fresher Can Apply:\\n  \\n  Call @ 7303778896 | 9560245147', 'Skills: Freshers , Graduates , GraduateFresher , DataEntry , DataAnalysis , Mis , MarketResearch , Word , MISAnalyst , MisExecutive , BackOffice , Backend , DataManagement , Excel , DataScience , OperationsExecutive', 'Posted: 25 days ago'), ('Data Analyst / Fresher /  Data Scientist / Graduate Fresher  - MNC - 7303778896 | 9560245147', 'Structured Learning Assistance Consultants India Private Limited', 'Delhi, Gurgaon / Gurugram', '0-5 Years', 'Not Specified', 'Fresher Can Apply:\\n   \\n   Call @ 7303778896 | 9560245147', 'Skills: Freshers , Graduates , GraduateFresher , DataEntry , DataAnalysis , Mis , MarketResearch , Word , MISAnalyst , MisExecutive , BackOffice , Backend , DataManagement , Excel , DataScience , OperationsExecutive', 'Posted: 20 days ago'), ('Data Analyst – Fresher – Data Scientist – Any Graduate - Fresher  6397800351 | 9717266846', 'Structured Learning Assistance Consultants India Private Limited', 'Delhi, Noida', '0-5 Years', 'Not Specified', 'Fresher Can Apply:', 'Skills: DataAnalyst , MIreportdevelopment , DataScientist', 'Posted: 30+ days ago'), ('Data Analyst – Fresher – Data Scientist – Graduate - Fresher  7303778896 | 9560245147 | 6397800351 ', 'Structured Learning Assistance Consultants India Private Limited', 'Delhi, Gurgaon / Gurugram', '0-5 Years', 'Not Specified', 'Fresher Can Apply:\\n  \\n  Call @ 7303778896 | 9560245147 | 6397800351', 'Skills: Freshers , Graduates , GraduateFresher , DataEntry , DataAnalysis , Mis , MarketResearch , Word , MISAnalyst , MisExecutive , BackOffice , Backend , DataManagement , Excel , DataScience , OperationsExecutive', 'Posted: 30+ days ago'), ('Data Analyst – Fresher – Data Scientist – Graduate - Fresher  7303778896 | 9560245147 | 6397800351 ', 'Structured Learning Assistance Consultants India Private Limited', 'Delhi, Noida', '0-5 Years', 'Not Specified', 'Fresher Can Apply:\\n \\n Call @ 7303778896 | 9560245147 | 6397800351', 'Skills: Freshers , Graduates , GraduateFresher , DataEntry , DataAnalysis , Mis , MarketResearch , Word , MISAnalyst , MisExecutive , BackOffice , Backend , DataManagement , Excel , DataScience , OperationsExecutive', 'Posted: 30+ days ago'), ('DATA ANALYST – FRESHER – DATA SCIENTIST – SAS – PYTHON – TABLEAU - Fresher / Exp', 'Structured Learning Assistance Consultants India Private Limited', 'Delhi, Noida', '0-5 Years', 'Not Specified', 'Fresher Can Apply:', 'Skills: DataAnalyst , DataAnalysis , BusinessAnalytics , MarketResearch , fresheranalyst , DataAnalytics , ResearchAnalyst', 'Posted: 30+ days ago'), None, None, None, None, ('8448833475 Part Time Full Time Data Typing Work / Work From Home / Freelancer Job', 'Zarbex Solutions', 'Delhi', '0-5 Years', '1,50,000-4,80,000 INR', 'Position: Data Entry Executive/Back Office Executive/ Data Entry Executive\\n     Freshers can also Apply\\n     Any Graduate/Post Graduate\\n     Candidate can work from Anywhere in INDIA\\n     Form Filling and Ad posting kind of requirements.\\n     Online Data Entry', 'Skills: BackOffice , Backend , BackOfficeExecutive , Backofficeoperations , DataEntryExecutive , Computeroperator', 'Posted: 20 hours ago'), ('Backend Executive(non Voice Process) Work from Home\\t\\t\\t\\t\\t', 'Zarbex Solutions', 'Delhi', '0-5 Years', '1,50,000-4,80,000 INR', 'Position: Data Entry Executive/Back Office Executive/ Data Entry Executive\\n        Freshers can also Apply\\n        Any Graduate/Post Graduate\\n        Candidate can work from Anywhere in INDIA\\n        Form Filling and Ad posting kind of requirements.\\n        Online Data Entry', 'Skills: BackOffice , Backend , BackOfficeExecutive , Backofficeoperations , DataEntryExecutive , Computeroperator', 'Posted: 20 hours ago'), ('Part Time Typing Work / Home Based Work / Freelancer / Data Entry Job', 'Zarbex Solutions', 'Delhi', '0-5 Years', '1,50,000-4,80,000 INR', 'Position: Data Entry Executive/Back Office Executive/ Data Entry Executive\\n     Freshers can also Apply\\n     Any Graduate/Post Graduate\\n     Candidate can work from Anywhere in INDIA\\n     Form Filling and Ad posting kind of requirements.\\n     Online Data Entry', 'Skills: Typing , DataEntryExecutive , BackOfficeExecutive , DataEntry , Backend , Nonvoice , BackOffice', 'Posted: 20 hours ago'), ('Part time/Full time Job Work from Home/Data Entry Typing Job', 'Zarbex Solutions', 'Delhi', '0-5 Years', '1,50,000-4,80,000 INR', 'Position: Data Entry Executive/Back Office Executive/ Data Entry Executive\\n    Freshers can also Apply\\n    Any Graduate/Post Graduate\\n    Candidate can work from Anywhere in INDIA\\n    Form Filling and Ad posting kind of requirements.\\n    Online Data Entry', 'Skills: DataEntryOperator , BackOfficeExecutive , BackOffice , DataEntry , ComputerOperator', 'Posted: 20 hours ago'), ('Spend 2 To 3 hours a day and earn 1K-5K rupees a day-Work @ Home', 'Zarbex Solutions', 'Delhi', '0-5 Years', '1,50,000-4,80,000 INR', 'Position: Data Entry Executive/Back Office Executive/ Data Entry Executive\\n     Freshers can also Apply\\n     Any Graduate/Post Graduate\\n     Candidate can work from Anywhere in INDIA\\n     Form Filling and Ad posting kind of requirements.\\n     Online Data Entry', 'Skills: DataEntryExecutive , BackOfficeExecutive , DataEntryExecutive', 'Posted: 20 hours ago'), ('Data Entry Home Based Part Time Or Full Time Work (Work From Home)\\t\\t\\t\\t\\t\\t', 'Zarbex Solutions', 'Delhi', '0-5 Years', '1,50,000-4,80,000 INR', 'Position: Data Entry Executive/Back Office Executive/ Data Entry Executive\\n           Freshers can also Apply\\n           Any Graduate/Post Graduate\\n           Candidate can work from Anywhere in INDIA\\n           Form Filling and Ad posting kind of requirements.\\n           Online Data Entry', 'Skills: BackOffice , Backend , BackOfficeExecutive , Backofficeoperations , DataEntryExecutive , Computeroperator', 'Posted: 20 hours ago'), ('Online Data Entry / Form Filling /  Computer Operator ', 'Aaryan Technology', 'Ahmedabad, Delhi', '0-5 Years', '2,10,000-3,50,000 INR', 'Online Data Entry / Form Filling /  Computer Operator', 'Skills: OnlineDataEntry , BackOffice , DataEntry , DataEntryOperator , formfiling , ComputerOperator', 'Posted: 14 hours ago'), None, ('Data Analytics ', 'Ep Infoways Hr Services Private Limited', 'Bengaluru / Bangalore, Delhi', 'Fresher', '2,40,000-3,60,000 INR', 'Data Analytics', 'Skills: Report , Modeling , MarketResearch , DataAnalytics , DataMining', 'Posted: a day ago'), None, ('Urgent Requirement Data Entry Operator in Gov Sector', 'Meksa Enterprises', 'Delhi', '0-3 Years', 'Not Specified', 'Urgent Requirement For Data Entry Operator In Govt Department. Contact :- Nilesh Kr:-7042068298, Avanish Pandey:-9793333340', 'Skills: DataEntryOperator', 'Posted: 11 hours ago')]\n"
     ]
    }
   ],
   "source": [
    "print(monster_ds_jobs())"
   ]
  },
  {
   "cell_type": "code",
   "execution_count": null,
   "metadata": {},
   "outputs": [],
   "source": []
  }
 ],
 "metadata": {
  "kernelspec": {
   "display_name": "Python 3",
   "language": "python",
   "name": "python3"
  },
  "language_info": {
   "codemirror_mode": {
    "name": "ipython",
    "version": 3
   },
   "file_extension": ".py",
   "mimetype": "text/x-python",
   "name": "python",
   "nbconvert_exporter": "python",
   "pygments_lexer": "ipython3",
   "version": "3.7.6"
  }
 },
 "nbformat": 4,
 "nbformat_minor": 4
}
