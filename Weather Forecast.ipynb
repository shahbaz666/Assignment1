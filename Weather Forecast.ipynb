{
 "cells": [
  {
   "cell_type": "code",
   "execution_count": 7,
   "metadata": {},
   "outputs": [],
   "source": [
    "def weather_forecast():\n",
    "    from selenium import webdriver\n",
    "    from bs4 import BeautifulSoup\n",
    "    import csv\n",
    "    \n",
    "    url = 'https://forecast.weather.gov/MapClick.php?lat=37.777120000000025&lon=-122.41963999999996#.X5kUp1gzbtQ'\n",
    "    driver = webdriver.Chrome()\n",
    "    driver.get(url)\n",
    "    soup = BeautifulSoup(driver.page_source,'html.parser')\n",
    "    results = soup.find_all('div',{\"class\":\"tombstone-container\"})\n",
    "    \n",
    "    # finding the weather description forecast from the other table\n",
    "    c_result = soup.find_all('div',{\"class\":\"row-forecast\"})\n",
    "    \n",
    "    #The period description is different in the two tables so we will clean the text for matching them\n",
    "    def remove(string): \n",
    "        return string.replace(\" \", \"\") \n",
    "    #Function for extracting data from one result\n",
    "    def extract_record(item):\n",
    "        \"\"\"extract and return result from a single result\"\"\"\n",
    "        period = item.p.text.strip()\n",
    "        short_desc = item.find('p',{'class':'short-desc'}).text.strip()\n",
    "        try:\n",
    "            temp = item.find('p',{'class':'temp'}).text.strip()\n",
    "        except AttributeError:\n",
    "            return\n",
    "        desc=''\n",
    "        for c_item in c_result:\n",
    "            if period==remove(c_item.find('div',{\"class\":\"col-sm-2 forecast-label\"}).text.strip()):\n",
    "                desc =c_item.find('div',{\"class\":\"col-sm-10 forecast-text\"}).text.strip()\n",
    "        result = (period,short_desc,temp,desc)\n",
    "        return result\n",
    "    \n",
    "    records = []\n",
    "    for item in results:\n",
    "        record = extract_record(item)\n",
    "        records.append(record)\n",
    "    driver.close()\n",
    "    return records"
   ]
  },
  {
   "cell_type": "code",
   "execution_count": 8,
   "metadata": {},
   "outputs": [
    {
     "name": "stdout",
     "output_type": "stream",
     "text": [
      "[None, ('Tonight', 'ChanceShowers', 'Low: 49 °F', 'A 50 percent chance of showers.  Mostly cloudy, with a low around 49. West wind 5 to 9 mph becoming north after midnight.  New precipitation amounts of less than a tenth of an inch possible.'), ('Saturday', 'Sunny', 'High: 60 °F', 'Sunny, with a high near 60. Light and variable wind becoming west 5 to 9 mph in the afternoon.'), ('SaturdayNight', 'Mostly Clear', 'Low: 50 °F', 'Mostly clear, with a low around 50. Northwest wind 11 to 16 mph, with gusts as high as 21 mph.'), ('Sunday', 'Sunny', 'High: 60 °F', 'Sunny, with a high near 60. North northwest wind 14 to 16 mph, with gusts as high as 21 mph.'), ('SundayNight', 'Mostly Clear', 'Low: 46 °F', 'Mostly clear, with a low around 46. North northwest wind 9 to 13 mph.'), ('Monday', 'Mostly Sunny', 'High: 58 °F', 'Mostly sunny, with a high near 58.'), ('MondayNight', 'Partly Cloudy', 'Low: 45 °F', 'Partly cloudy, with a low around 45.'), ('Tuesday', 'Mostly Sunny', 'High: 62 °F', 'Mostly sunny, with a high near 62.')]\n"
     ]
    }
   ],
   "source": [
    "print(weather_forecast())"
   ]
  },
  {
   "cell_type": "code",
   "execution_count": null,
   "metadata": {},
   "outputs": [],
   "source": []
  }
 ],
 "metadata": {
  "kernelspec": {
   "display_name": "Python 3",
   "language": "python",
   "name": "python3"
  },
  "language_info": {
   "codemirror_mode": {
    "name": "ipython",
    "version": 3
   },
   "file_extension": ".py",
   "mimetype": "text/x-python",
   "name": "python",
   "nbconvert_exporter": "python",
   "pygments_lexer": "ipython3",
   "version": "3.7.6"
  }
 },
 "nbformat": 4,
 "nbformat_minor": 4
}
